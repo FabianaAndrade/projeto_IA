{
  "nbformat": 4,
  "nbformat_minor": 0,
  "metadata": {
    "colab": {
      "provenance": [],
      "include_colab_link": true
    },
    "kernelspec": {
      "name": "python3",
      "display_name": "Python 3"
    },
    "language_info": {
      "name": "python"
    }
  },
  "cells": [
    {
      "cell_type": "markdown",
      "metadata": {
        "id": "view-in-github",
        "colab_type": "text"
      },
      "source": [
        "<a href=\"https://colab.research.google.com/github/FabianaAndrade/projeto_IA/blob/main/main.ipynb\" target=\"_parent\"><img src=\"https://colab.research.google.com/assets/colab-badge.svg\" alt=\"Open In Colab\"/></a>"
      ]
    },
    {
      "cell_type": "markdown",
      "source": [
        "*   Aryane de Alcantara Chaves - 11893303\n",
        "*   Fabiana Andrade Barroso - 13729431\n",
        "*   Gabriel Kennuy de Assis Malta Peruso - 13673173\n",
        "*   Ingrid Moreno da Silva - 13729070\n",
        "*   Izabel Christine dos Santos Barranco  - 11847711\n",
        "*   Jenifer Galvão de Morais - 11912147\n",
        "\n",
        "\n",
        "\n",
        "\n",
        "\n",
        "\n",
        "\n"
      ],
      "metadata": {
        "id": "SnQQgn4SQM3Z"
      }
    },
    {
      "cell_type": "code",
      "execution_count": null,
      "metadata": {
        "id": "lkCUU_VNvjsb"
      },
      "outputs": [],
      "source": [
        "import matplotlib.pyplot as plt\n",
        "import numpy as np\n",
        "import os"
      ]
    },
    {
      "cell_type": "code",
      "source": [
        "# Define o diretório de output\n",
        "\n",
        "output_dir = \"output_files\"\n",
        "# Cria diretório de output\n",
        "os.makedirs(output_dir, exist_ok=True)"
      ],
      "metadata": {
        "id": "vLsORWIyDZuK"
      },
      "execution_count": null,
      "outputs": []
    },
    {
      "cell_type": "code",
      "source": [
        "# Função criada para salvar os pesos iniciais no .txt\n",
        "\n",
        "def save_initial_weights(initial_weights):\n",
        "    # Define o caminho e o nome do arquivo de saída\n",
        "    output_file = \"initial_weights.txt\"\n",
        "\n",
        "    # Abre o arquivo para escrita\n",
        "    with open(output_file, \"w\") as txt_file:\n",
        "        # Escreve um cabeçalho indicando a origem dos pesos\n",
        "        txt_file.write(\"Pesos Iniciais:\\n\\n\")\n",
        "\n",
        "        # Itera sobre cada camada de pesos\n",
        "        for index, layer in enumerate(initial_weights):\n",
        "            # Determina a origem da camada de pesos\n",
        "            if index == 0:\n",
        "                txt_file.write(\"Passagem da camada sensorial para a camada escondida\\n\\n\")\n",
        "            elif index == 1:\n",
        "                txt_file.write(\"Passagem da camada escondida para a camada de saída\\n\\n\")\n",
        "\n",
        "            # Itera sobre os neurônios na camada\n",
        "            for neuron_index, weights in enumerate(layer):\n",
        "                # Escreve os pesos do neurônio\n",
        "                txt_file.write(\"Neurônio: \" + str(neuron_index + 1) + \":\\n\")\n",
        "                for weight in weights:\n",
        "                    txt_file.write(str(weight) + \" \")\n",
        "                txt_file.write(\"\\n\")\n",
        "\n",
        "            # Adiciona uma linha em branco entre as camadas\n",
        "            txt_file.write(\"\\n\")"
      ],
      "metadata": {
        "id": "fG9ydwzjGekP"
      },
      "execution_count": null,
      "outputs": []
    },
    {
      "cell_type": "code",
      "source": [
        "# Função criada para salvar os pesos finais no .txt\n",
        "\n",
        "def save_final_weights(final_weights):\n",
        "    # Define o caminho e o nome do arquivo de saída\n",
        "    output_file = \"final_weights.txt\"\n",
        "\n",
        "    # Abre o arquivo para escrita\n",
        "    with open(output_file, \"w\") as txt_file:\n",
        "        # Escreve um cabeçalho indicando a origem dos pesos\n",
        "        txt_file.write(\"Pesos Finais:\\n\\n\")\n",
        "\n",
        "        # Itera sobre cada camada de pesos\n",
        "        for index, layer in enumerate(final_weights):\n",
        "            # Determina a origem da camada de pesos\n",
        "            if index == 0:\n",
        "                txt_file.write(\"Passagem da camada sensorial para a camada escondida\\n\\n\")\n",
        "            elif index == 1:\n",
        "                txt_file.write(\"Passagem da camada escondida para a camada de saída\\n\\n\")\n",
        "\n",
        "            # Itera sobre os neurônios na camada\n",
        "            for neuron_index, weights in enumerate(layer):\n",
        "                # Escreve os pesos do neurônio\n",
        "                txt_file.write(\"Neurônio: \" + str(neuron_index + 1) + \":\\n\")\n",
        "                for weight in weights:\n",
        "                    txt_file.write(str(weight) + \" \")\n",
        "                txt_file.write(\"\\n\")\n",
        "\n",
        "            # Adiciona uma linha em branco entre as camadas\n",
        "            txt_file.write(\"\\n\")"
      ],
      "metadata": {
        "id": "wI-PCYR3MSwl"
      },
      "execution_count": null,
      "outputs": []
    },
    {
      "cell_type": "code",
      "source": [
        "# Função criada para salvar os parametros no .txt\n",
        "\n",
        "def save_architecture_parameters(learning_rate, stopping_criteria, input_neurons, hidden_neurons, output_neurons):\n",
        "    # Define o caminho e o nome do arquivo de saída\n",
        "    output_file = \"architecture_parameters.txt\"\n",
        "\n",
        "    # Abre o arquivo para escrita\n",
        "    with open(output_file, \"w\") as txt_ParametersFile:\n",
        "        txt_ParametersFile.write(\"Taxa de aprendizado: \" +\n",
        "                        str(learning_rate) + \"\\n\")\n",
        "        txt_ParametersFile.write(\"Critério de parada: \" +\n",
        "                        str(stopping_criteria) + \"\\n\")\n",
        "        txt_ParametersFile.write(\"Nro de neurônios (camada de entrada): \" +\n",
        "                        str(input_neurons) + \"\\n\")\n",
        "        txt_ParametersFile.write(\"Nro de neurônios (camada oculta): \" +\n",
        "                        str(hidden_neurons) + \"\\n\")\n",
        "        txt_ParametersFile.write(\"Nro de neurônios (camada de saída): \" +\n",
        "                        str(output_neurons) + \"\\n\")\n",
        "    txt_ParametersFile.close()\n",
        "    # Fecha o arquivo"
      ],
      "metadata": {
        "id": "_39XD95BHCa5"
      },
      "execution_count": null,
      "outputs": []
    },
    {
      "cell_type": "code",
      "source": [
        "# Função criada para salvar os erros por epoca no .txt\n",
        "\n",
        "def save_error_by_epoch(error, epoch):\n",
        "    # Define o caminho e o nome do arquivo de saída\n",
        "    output_file = \"error_by_epoch.txt\"\n",
        "\n",
        "    # Abre o arquivo para escrita\n",
        "    with open(output_file, \"a\") as txt_file:\n",
        "        # Escreve a média de erro da época\n",
        "        txt_file.write(\"Média de erro da época \" + str(epoch) + \": \" +\n",
        "                        str(error) + \"\\n\")\n",
        "\n",
        "    # Não é preciso fechar pois estamos usando appende ao inves de write"
      ],
      "metadata": {
        "id": "65HHFb5DOdoU"
      },
      "execution_count": null,
      "outputs": []
    }
  ]
}