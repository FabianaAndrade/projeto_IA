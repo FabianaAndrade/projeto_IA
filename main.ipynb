{
  "cells": [
    {
      "cell_type": "markdown",
      "metadata": {
        "colab_type": "text",
        "id": "view-in-github"
      },
      "source": [
        "<a href=\"https://colab.research.google.com/github/FabianaAndrade/projeto_IA/blob/main/main.ipynb\" target=\"_parent\"><img src=\"https://colab.research.google.com/assets/colab-badge.svg\" alt=\"Open In Colab\"/></a>"
      ]
    },
    {
      "cell_type": "markdown",
      "metadata": {
        "id": "SnQQgn4SQM3Z"
      },
      "source": [
        "*   Aryane de Alcantara Chaves - 11893303\n",
        "*   Fabiana Andrade Barroso - 13729431\n",
        "*   Gabriel Kennuy de Assis Malta Peruso - 13673173\n",
        "*   Ingrid Moreno da Silva - 13729070\n",
        "*   Izabel Christine dos Santos Barranco  - 11847711\n",
        "*   Jenifer Galvão de Morais - 11912147\n",
        "\n",
        "\n",
        "\n",
        "\n",
        "\n",
        "\n",
        "\n"
      ]
    },
    {
      "cell_type": "code",
      "execution_count": 1,
      "metadata": {
        "id": "lkCUU_VNvjsb"
      },
      "outputs": [],
      "source": [
        "import matplotlib.pyplot as plt\n",
        "import numpy as np\n",
        "import os\n",
        "\n",
        "from sklearn.metrics import confusion_matrix, ConfusionMatrixDisplay\n",
        "from sklearn.model_selection import train_test_split"
      ]
    },
    {
      "cell_type": "code",
      "execution_count": 2,
      "metadata": {
        "id": "mGrDzHNPstts"
      },
      "outputs": [],
      "source": [
        "tamanho_camada_escondida = 73 #regra do ponto médio\n",
        "learning_rate = 0.01\n",
        "epocas = 10000"
      ]
    },
    {
      "cell_type": "code",
      "execution_count": 3,
      "metadata": {
        "id": "9F7-RZyx2vl6"
      },
      "outputs": [],
      "source": [
        "class LeituraDados:\n",
        "  def __init__(self):\n",
        "      # 1. Ler os dados dos arquivos\n",
        "      X_file = 'X.txt'\n",
        "      Y_file = 'Y_letra.txt' # pular linha no final do arquivo quando for subir\n",
        "\n",
        "      with open(X_file, 'r') as file:\n",
        "          linhas_X = file.readlines()\n",
        "\n",
        "      with open(Y_file, 'r') as file:\n",
        "          rotulos = [line.strip() for line in file.readlines() if line.strip()]\n",
        "\n",
        "      # 2. Codificação dos rótulos (Y_letra.txt)\n",
        "      classes = sorted(set(rotulos))  # Obter todas as classes únicas\n",
        "      self.num_classes = len(classes) # Usar este valor para o parametro de quantidade de neuronios de saida\n",
        "\n",
        "      rotulos_encoded = []\n",
        "      for rotulo in rotulos:\n",
        "          index = classes.index(rotulo)  # Obter o índice da classe no vetor de classes\n",
        "          one_hot = [0] * self.num_classes\n",
        "          one_hot[index] = 1  # Definir o valor 1 para a classe correspondente\n",
        "          rotulos_encoded.append(one_hot)\n",
        "\n",
        "      x = []\n",
        "      for linha in linhas_X:\n",
        "          valores = linha.strip().split(',')\n",
        "          valores_int = [int(valor) for valor in valores if valor.strip()]  # Remover valores vazios e espaços em branco\n",
        "          if valores_int:\n",
        "              x.append(valores_int)\n",
        "\n",
        "\n",
        "      self.x = np.array(x, dtype=int)  # Convertendo para int\n",
        "      self.y = np.array(rotulos_encoded)\n",
        "      self.tamanho_entrada = len(x[0]) # Usar esse valor para o parametro de quantidade de neuronios de entrada\n",
        "\n",
        "      #print(\"x \", self.x[0])\n",
        "      #print(\"y \", self.y[26])"
      ]
    },
    {
      "cell_type": "code",
      "execution_count": 4,
      "metadata": {
        "id": "0Fv7pMDsWD2s"
      },
      "outputs": [],
      "source": [
        "class MLP:\n",
        "    # quantidade de neuronios de entrada = quantidade de valores do vetor/matriz do input\n",
        "    # quantidade de neuronios da camada escondida = pode ser um parametro\n",
        "    # quantidade de neuronios da camada de saida = quantidade de labels existentes do problema extraidas do arquivo y_letra\n",
        "    def __init__(self, tamanho_camada_entrada, tamanho_camada_escondida, tamanho_camada_saida, learning_rate):\n",
        "\n",
        "        # Inicialização aleatória dos pesos e bias a partir de uma distribuição normal (gaussiana) com média 0 e desvio padrão 1.\n",
        "        self.pesos_saindo_camada_de_entrada_para_escondida = np.random.rand(tamanho_camada_entrada, tamanho_camada_escondida)\n",
        "        self.pesos_saindo_camada_escondida_para_saida = np.random.rand(tamanho_camada_escondida, tamanho_camada_saida)\n",
        "\n",
        "        # Inicialização dos bias\n",
        "        self.bias_camada_escondida = np.random.rand(tamanho_camada_escondida)\n",
        "        self.bias_camada_saida = np.random.rand(tamanho_camada_saida)\n",
        "\n",
        "        self.learning_rate = learning_rate\n",
        "\n",
        "    def sigmoide(self, x):\n",
        "        return 1 / (1 + np.exp(-x))\n",
        "\n",
        "    def derivada_sigmoide(self, x):\n",
        "        return x * (1 - x)\n",
        "\n",
        "    def feedforward(self, X):\n",
        "        # Calculo do input da camada escondida\n",
        "        # Calcula atraves da multiplicação do valores da camada de entrada com o pesos da camada de entrada para a camada escondida\n",
        "        # e soma com os bias da camada de entrada para a camada escondida\n",
        "        # Calcula o output passando pela função sigmoide (nossa função de ativação)\n",
        "        self.input_camada_escondida = np.dot(X, self.pesos_saindo_camada_de_entrada_para_escondida) + self.bias_camada_escondida\n",
        "        self.output_camada_escondida = self.sigmoide(self.input_camada_escondida)\n",
        "\n",
        "        # Calculo da camada escondida\n",
        "        # Calcula atraves do resultado do input da camada escondida passando pela função sigmoide (nossa função de ativação)\n",
        "        self.input_camada_saida = np.dot(self.output_camada_escondida, self.pesos_saindo_camada_escondida_para_saida) + self.bias_camada_saida\n",
        "        self.saida = self.sigmoide(self.input_camada_saida)\n",
        "        #self.saida = self.softmax(self.input_camada_saida)\n",
        "\n",
        "        return self.saida\n",
        "\n",
        "    def backpropagation(self, X, y, saida):\n",
        "        # Passo 6: Retropropagação da camada de saída para a camada escondida\n",
        "        # Cálculo do erro da camada de saída\n",
        "        # (tk − yk)\n",
        "        erro_saida = y - saida\n",
        "        #print(\"saida 1325\", saida[1325])\n",
        "        #print(\"y len\", len(y[0]))\n",
        "        #print(\"saida tamanho\", len(saida[0]))\n",
        "        # Cálculo do termo de informação de erro delta para a camada de saída\n",
        "        # δk = (tk − yk)f′(y_ink)\n",
        "        delta_saida = erro_saida * self.derivada_sigmoide(saida)\n",
        "\n",
        "        # Atualização dos pesos e bias da camada de saída\n",
        "        self.pesos_saindo_camada_escondida_para_saida += self.learning_rate * np.dot(self.output_camada_escondida.T, delta_saida)\n",
        "        self.bias_camada_saida += self.learning_rate * np.sum(delta_saida, axis=0)\n",
        "\n",
        "        # Passo 7: Retropropagação da camada de saída para a camada escondida\n",
        "        # Propagação do erro da camada de saída para a camada escondida\n",
        "        erro_camada_escondida = np.dot(delta_saida, self.pesos_saindo_camada_escondida_para_saida.T)\n",
        "        # Cálculo do termo de informação de erro delta para a camada escondida\n",
        "        delta_camada_escondida = erro_camada_escondida * self.derivada_sigmoide(self.output_camada_escondida)\n",
        "\n",
        "        # Atualização dos pesos e bias da camada de entrada para a camada escondida\n",
        "        self.pesos_saindo_camada_de_entrada_para_escondida += self.learning_rate * np.dot(X.T, delta_camada_escondida)\n",
        "        self.bias_camada_escondida += self.learning_rate * np.sum(delta_camada_escondida, axis=0)\n",
        "\n",
        "    def treinamento(self, X, y, epocas):\n",
        "        erros = []\n",
        "        saida = []\n",
        "        for epoca in range(epocas):\n",
        "            saida = self.feedforward(X)\n",
        "            self.backpropagation(X, y, saida)\n",
        "            eqm = np.mean((y - saida) ** 2)\n",
        "            erros.append(eqm)\n",
        "            #print(f'Epoca {epoca+1}/{epocas}, Erro quadratico medio: {eqm}')\n",
        "        #print(\"saida argmax \", np.argmax(saida[1]))\n",
        "        self.saida_final = saida;\n",
        "        # Plotando o erro por época\n",
        "        plt.plot(range(1, epocas+1), erros, marker='o')\n",
        "        plt.xlabel('Época')\n",
        "        plt.ylabel('Erro Quadrático Médio')\n",
        "        plt.title('Erro Quadrático Médio por Época')\n",
        "        plt.ylim(0, 0.1)\n",
        "        plt.grid(True)\n",
        "        plt.show()\n",
        "        return erros"
      ]
    },
    {
      "cell_type": "markdown",
      "metadata": {
        "id": "1FrThYpLsnqj"
      },
      "source": [
        "Separando os samples em treinamento e teste e realizando o treinamento da MLP sem parada antecipada"
      ]
    },
    {
      "cell_type": "code",
      "execution_count": 5,
      "metadata": {
        "id": "N9Ef0WPE6Ej4"
      },
      "outputs": [],
      "source": [
        "def separa_samples(tamanho_camada_escondida, learning_rate, epocas):\n",
        "    # Inicializando a classe de leitura de dados\n",
        "    leitura_dados = LeituraDados()\n",
        "\n",
        "    # Combine os arrays em um único array\n",
        "    arrays_combinados = np.hstack((leitura_dados.x, leitura_dados.y))\n",
        "\n",
        "    # Randomize as linhas do array combinado\n",
        "    np.random.shuffle(arrays_combinados)\n",
        "\n",
        "    # Separe os arrays de volta em dois arrays\n",
        "    x_randomizado = arrays_combinados[:, :leitura_dados.x.shape[1]]\n",
        "    y_randomizado = arrays_combinados[:, leitura_dados.x.shape[1]:]\n",
        "\n",
        "    # Dividindo os dados e rótulos randomizados em conjuntos de treinamento e teste\n",
        "    x_treinamento, x_teste, y_treinamento, y_teste = train_test_split(x_randomizado, y_randomizado, test_size=0.2, random_state=42)\n",
        "\n",
        "    # Criando e treinando a rede neural com os dados de treinamento\n",
        "    mlp = MLP(leitura_dados.tamanho_entrada, tamanho_camada_escondida, leitura_dados.num_classes, learning_rate)\n",
        "    errors = mlp.treinamento(x_treinamento, y_treinamento, epocas)\n",
        "\n",
        "    #Retorna a MLP treinada e os dados de teste para avaliação posterior\n",
        "    return mlp, x_teste, y_teste"
      ]
    },
    {
      "cell_type": "markdown",
      "metadata": {
        "id": "8uVAaP2NaM8R"
      },
      "source": [
        "#Holdout sem parada antecipada"
      ]
    },
    {
      "cell_type": "code",
      "execution_count": 7,
      "metadata": {
        "colab": {
          "base_uri": "https://localhost:8080/",
          "height": 494
        },
        "id": "XWgWC0QPktg0",
        "outputId": "055101dd-7944-48c1-b29c-825bc2aa526e"
      },
      "outputs": [],
      "source": [
        "def teste_holdout(tamanho_camada_escondida, learning_rate, epocas):\n",
        "    # Chama o método processo_ml para obter a MLP treinada e os dados de teste\n",
        "    mlp, x_teste, y_teste = separa_samples(tamanho_camada_escondida, learning_rate, epocas)\n",
        "\n",
        "    # Passando os dados de teste pela MLP para obter previsões\n",
        "    previsoes_teste = mlp.feedforward(x_teste)\n",
        "\n",
        "    # Recuperando os rótulos originais dos dados de teste\n",
        "    rotulos_teste_originais = np.argmax(y_teste, axis=1)\n",
        "\n",
        "    acertos = 0\n",
        "    for i in range(len(previsoes_teste)):\n",
        "        saida_a = np.argmax(previsoes_teste[i])\n",
        "        esperado = np.argmax(y_teste[i])\n",
        "        if saida_a == esperado:\n",
        "            acertos += 1\n",
        "\n",
        "    porcentagem_acertos = (acertos / len(previsoes_teste)) * 100\n",
        "\n",
        "    print('Porcentagem de acertos: ', porcentagem_acertos)\n",
        "\n",
        "teste_holdout(tamanho_camada_escondida, learning_rate, epocas)"
      ]
    },
    {
      "cell_type": "markdown",
      "metadata": {
        "id": "YTvik4jYaSsT"
      },
      "source": [
        "#Holdout com parada antecipada"
      ]
    },
    {
      "cell_type": "code",
      "execution_count": null,
      "metadata": {},
      "outputs": [],
      "source": [
        "\n",
        "\n",
        "def treinamento(mlp, X, y, X_val, y_val, epocas, epocas_sem_melhoria):\n",
        "    \"\"\"\n",
        "        Implementação  do treinamento da rede neural com parada antecipada\n",
        "    \"\"\"\n",
        "    erros_treino = []\n",
        "    erros_val = []\n",
        "    melhor_erro_val = float('inf') \n",
        "    count_epocas_sem_melhorias = 0\n",
        "\n",
        "    for epoca in range(epocas):\n",
        "        saida = mlp.feedforward(X)\n",
        "        mlp.backpropagation(X, y, saida)\n",
        "        erro_treino = np.mean((y - saida) ** 2)\n",
        "        erros_treino.append(erro_treino)\n",
        "\n",
        "        saida_val = mlp.feedforward(X_val)\n",
        "        erro_val = np.mean((y_val - saida_val) ** 2)\n",
        "        erros_val.append(erro_val)\n",
        "\n",
        "        if erro_val < melhor_erro_val: \n",
        "            melhor_erro_val = erro_val\n",
        "            melhor_pesos = (mlp.pesos_saindo_camada_de_entrada_para_escondida.copy(),\n",
        "                            mlp.pesos_saindo_camada_escondida_para_saida.copy(),\n",
        "                            mlp.bias_camada_escondida.copy(),\n",
        "                            mlp.bias_camada_saida.copy())\n",
        "            count_epocas_sem_melhorias = 0\n",
        "        else:\n",
        "            count_epocas_sem_melhorias += 1\n",
        "\n",
        "        if count_epocas_sem_melhorias >= epocas_sem_melhoria:\n",
        "            print(f\"Parada antecipada na época {epoca + 1}\")\n",
        "            print(f\"Melhor erro de validação: {melhor_erro_val}\")\n",
        "            print(f\"Erro de treinamento na época {epoca + 1}: {erro_treino}\")\n",
        "            print(f\"Erro de validação na época {epoca + 1}: {erro_val}\")\n",
        "\n",
        "            break \n",
        "\n",
        "    mlp.pesos_saindo_camada_de_entrada_para_escondida, mlp.pesos_saindo_camada_escondida_para_saida, \\\n",
        "    mlp.bias_camada_escondida, mlp.bias_camada_saida = melhor_pesos\n",
        "\n",
        "    plt.plot(range(1, len(erros_treino) + 1), erros_treino, label='Treinamento')\n",
        "    plt.plot(range(1, len(erros_val) + 1), erros_val, label='Validação')\n",
        "    plt.xlabel('Época')\n",
        "    plt.ylabel('Erro Quadrático Médio')\n",
        "    plt.title('Erro Quadrático Médio por Época')\n",
        "    plt.legend()\n",
        "    plt.grid(True)\n",
        "    plt.show()\n",
        "\n",
        "    return erros_treino, erros_val\n",
        "\n",
        "def predicto(mlp, X):\n",
        "    saida = mlp.feedforward(X)\n",
        "    return np.argmax(saida, axis=1)\n",
        "\n",
        "def acuracia(y_true, y_pred):\n",
        "    return np.mean(y_true == y_pred)\n",
        "\n",
        "def distribui_valores(x, y, perc_treino, perc_validacao):\n",
        "    \"\"\"Divide os dados em treino, validação e teste \n",
        "        com a mesma distribuição de letras\"\"\"\n",
        "    lista_treino = []\n",
        "    lista_label_treino = []\n",
        "    lista_validacao = []\n",
        "    lista_label_validacao = []\n",
        "    lista_teste = []\n",
        "    lista_label_teste = []\n",
        "\n",
        "    for i in range(26):\n",
        "        indices = [index for index, value in enumerate(y) if value[i] == 1] # pega os indices de cada letra\n",
        "        np.random.shuffle(indices) # embaralha os indices\n",
        "        tamanho = len(indices) # pega o tamanho do vetor de indices\n",
        "        treino = indices[:int(tamanho * perc_treino)] # pega os indices de treino\n",
        "        validacao = indices[int(tamanho * perc_treino):int(tamanho * (perc_treino + perc_validacao))] # pega os indices de validação\n",
        "        teste = indices[int(tamanho * (perc_treino + perc_validacao)):] # pega os indices de teste\n",
        "\n",
        "        lista_treino.extend([x[i] for i in treino]) # pega os valores de treino\n",
        "        lista_label_treino.extend([y[i] for i in treino]) # pega os labels de treino\n",
        "        lista_validacao.extend([x[i] for i in validacao]) # pega os valores de validação\n",
        "        lista_label_validacao.extend([y[i] for i in validacao]) # pega os labels de validação\n",
        "        lista_teste.extend([x[i] for i in teste]) # pega os valores de teste\n",
        "        lista_label_teste.extend([y[i] for i in teste])     # pega os labels de teste\n",
        "\n",
        "    return np.array(lista_treino), np.array(lista_label_treino), np.array(lista_validacao), np.array(lista_label_validacao), np.array(lista_teste), np.array(lista_label_teste)\n",
        "\n",
        "def holdout_parada_antecipada(X, y, tamanho_entrada, num_classes):\n",
        "    #houldout com parada antecipada\n",
        "    perc_treino = 0.6\n",
        "    perc_validacao = 0.2 \n",
        "    \n",
        "    x_treino, y_treino, x_validacao, y_validacao, x_teste, y_teste = distribui_valores(X, y, perc_treino, perc_validacao)\n",
        "    \n",
        "    print(f\"Treino: {len(x_treino)}\")\n",
        "    print(f\"Validação: {len(x_validacao)}\")\n",
        "    print(f\"Teste: {len(x_teste)}\")\n",
        "\n",
        "    epocas_sem_melhoria = 1000\n",
        "\n",
        "    mlp = MLP(tamanho_entrada, tamanho_camada_escondida, num_classes, learning_rate)\n",
        "    erros_treino, erros_val = treinamento(mlp, x_treino, y_treino, x_validacao, y_validacao, epocas, epocas_sem_melhoria)\n",
        "\n",
        "    y_pred = predicto(mlp, x_teste)\n",
        "    y_test_labels = np.argmax(y_teste, axis=1)\n",
        "\n",
        "    acc = acuracia(y_test_labels, y_pred)\n",
        "    print(f\"Acurácia: {acc * 100:.2f}%\")\n",
        "    \n",
        "\n",
        "leitura_dados = LeituraDados()\n",
        "holdout_parada_antecipada(leitura_dados.x, leitura_dados.y, tamanho_camada_entrada, tamanho_camada_saida)\n"
      ]
    },
    {
      "cell_type": "markdown",
      "metadata": {
        "id": "Ns3mLQXWaW2J"
      },
      "source": [
        "#Cross validation sem parada antecipada"
      ]
    },
    {
      "cell_type": "markdown",
      "metadata": {
        "id": "053ZcbhAbUwa"
      },
      "source": [
        "#Cross validation com parada antecipada"
      ]
    },
    {
      "cell_type": "markdown",
      "metadata": {
        "id": "jiSooXfvsOF6"
      },
      "source": [
        "#Arquivos de saída"
      ]
    },
    {
      "cell_type": "code",
      "execution_count": 26,
      "metadata": {
        "id": "vLsORWIyDZuK"
      },
      "outputs": [],
      "source": [
        "#Define o diretório de output\n",
        "\n",
        "output_dir = \"output_files\"\n",
        "#Cria diretório de output\n",
        "os.makedirs(output_dir, exist_ok=True)"
      ]
    },
    {
      "cell_type": "markdown",
      "metadata": {
        "id": "4bPtkDMY27QT"
      },
      "source": [
        "salva hiperparâmetros finais da arquitetura da rede neural e\n",
        "hiperparâmetros de inicialização no txt"
      ]
    },
    {
      "cell_type": "code",
      "execution_count": 27,
      "metadata": {
        "id": "_39XD95BHCa5"
      },
      "outputs": [],
      "source": [
        "def save_hyperparameters_to_file(leitura_dados, tamanho_camada_escondida, tamanho_camada_saida, learning_rate, epocas, file_path):\n",
        "    with open(file_path, 'w') as arquivo:\n",
        "        arquivo.write('Hiperparâmetros finais e de inicialização:\\n\\n')\n",
        "        arquivo.write(f'Tamanho da camada de entrada: {leitura_dados.tamanho_entrada}\\n')\n",
        "        arquivo.write(f'Tamanho da camada escondida: {tamanho_camada_escondida}\\n')\n",
        "        arquivo.write(f'Tamanho da camada de saída: {tamanho_camada_saida}\\n')\n",
        "        arquivo.write(f'Taxa de aprendizado: {learning_rate}\\n')\n",
        "        arquivo.write(f'Épocas: {epocas}\\n')\n",
        "\n",
        "# Inicializa a classe de leitura de dados\n",
        "leitura_dados = LeituraDados()\n",
        "\n",
        "# Define os hiperparâmetros\n",
        "tamanho_camada_entrada = leitura_dados.tamanho_entrada\n",
        "tamanho_camada_saida = leitura_dados.num_classes\n",
        "\n",
        "# Cria uma instância da classe MLP usando os atributos da classe LeituraDados\n",
        "mlp = MLP(leitura_dados.tamanho_entrada, tamanho_camada_escondida, leitura_dados.num_classes, learning_rate)\n",
        "\n",
        "# Salva os hiperparâmetros finais e de inicialização\n",
        "save_hyperparameters_to_file(leitura_dados, tamanho_camada_escondida, tamanho_camada_saida, learning_rate, epocas, '/content/output_files/hiperparametros.txt')"
      ]
    },
    {
      "cell_type": "markdown",
      "metadata": {
        "id": "2GZI3K5ytI9i"
      },
      "source": [
        "salva pesos iniciais no txt"
      ]
    },
    {
      "cell_type": "code",
      "execution_count": 28,
      "metadata": {
        "id": "55tMzhvfsg1M"
      },
      "outputs": [],
      "source": [
        "def save_inicial_weights_to_file(weights_input_hidden, weights_hidden_output, file_path):\n",
        "    with open(file_path, 'w') as arquivo:\n",
        "        arquivo.write('Pesos da camada de entrada para a camada escondida\\n')\n",
        "        for linha in weights_input_hidden:\n",
        "            for peso in linha:\n",
        "                arquivo.write(str(peso) + '\\n')\n",
        "\n",
        "        arquivo.write('\\nPesos da camada escondida para a camada saída\\n')\n",
        "        for linha in weights_hidden_output:\n",
        "            for peso in linha:\n",
        "                arquivo.write(str(peso) + '\\n')\n",
        "\n",
        "# Inicializa a classe de leitura de dados\n",
        "leitura_dados = LeituraDados()\n",
        "\n",
        "# Define os hiperparâmetros\n",
        "tamanho_camada_entrada = leitura_dados.tamanho_entrada\n",
        "tamanho_camada_saida = leitura_dados.num_classes\n",
        "\n",
        "#Cria uma instância da classe MLP\n",
        "mlp = MLP(tamanho_camada_entrada, tamanho_camada_escondida, tamanho_camada_saida, learning_rate)\n",
        "\n",
        "#Salva os pesos da camada de entrada para a camada oculta e da camada oculta para a camada de saída no mesmo arquivo\n",
        "save_inicial_weights_to_file(mlp.pesos_saindo_camada_de_entrada_para_escondida, mlp.pesos_saindo_camada_escondida_para_saida, '/content/output_files/pesosInicias.txt')"
      ]
    },
    {
      "cell_type": "markdown",
      "metadata": {
        "id": "zOD3GZKDyziF"
      },
      "source": [
        "salva pesos finais no txt"
      ]
    },
    {
      "cell_type": "code",
      "execution_count": 29,
      "metadata": {
        "id": "wI-PCYR3MSwl"
      },
      "outputs": [],
      "source": [
        "def save_final_weights_to_file(weights_input_hidden, weights_hidden_output, file_path):\n",
        "    with open(file_path, 'w') as arquivo:\n",
        "        arquivo.write('Pesos finais da camada de entrada para a camada escondida\\n')\n",
        "        for linha in weights_input_hidden:\n",
        "            for peso in linha:\n",
        "                arquivo.write(str(peso) + '\\n')\n",
        "\n",
        "        arquivo.write('\\nPesos finais da camada escondida para a camada saída\\n')\n",
        "        for linha in weights_hidden_output:\n",
        "            for peso in linha:\n",
        "                arquivo.write(str(peso) + '\\n')\n",
        "\n",
        "#Cria uma instância da classe MLP\n",
        "mlp = MLP(tamanho_camada_entrada, tamanho_camada_escondida, tamanho_camada_saida, learning_rate)\n",
        "\n",
        "#Salva os pesos finais da camada de entrada para a camada oculta e da camada oculta para a camada de saída\n",
        "save_final_weights_to_file(mlp.pesos_saindo_camada_de_entrada_para_escondida, mlp.pesos_saindo_camada_escondida_para_saida, '/content/output_files/pesosFinais.txt')"
      ]
    },
    {
      "cell_type": "markdown",
      "metadata": {
        "id": "E18_fhvBtO4H"
      },
      "source": [
        "#Matriz de confusão"
      ]
    },
    {
      "cell_type": "code",
      "execution_count": 12,
      "metadata": {
        "colab": {
          "base_uri": "https://localhost:8080/",
          "height": 527
        },
        "id": "XmX0pnUsvMXz",
        "outputId": "f784eed8-6138-451a-dd46-8625b21c706d"
      },
      "outputs": [
        {
          "data": {
            "text/plain": [
              "[Text(0.5, 0, 'Labels Previstos'),\n",
              " Text(0, 0.5, 'Labels Verdadeiros'),\n",
              " Text(0.5, 1.0, 'Matriz de Confusão')]"
            ]
          },
          "execution_count": 12,
          "metadata": {},
          "output_type": "execute_result"
        },
        {
          "data": {
            "image/png": "[encoded data removed]",
            "text/plain": [
              "<Figure size 640x480 with 2 Axes>"
            ]
          },
          "metadata": {},
          "output_type": "display_data"
        }
      ],
      "source": [
        "#Labels verdardeiros\n",
        "y_true = []\n",
        "with open('/content/Y_letra.txt', 'r') as file:\n",
        "    for line in file:\n",
        "        y_true.append(line.strip())\n",
        "\n",
        "#Labels previstos pelo modelo\n",
        "y_pred = []\n",
        "with open('/content/Y_letra.txt', 'r') as file:\n",
        "    for line in file:\n",
        "        y_pred.append(line.strip())\n",
        "\n",
        "#Gera a matriz de confusão\n",
        "cm = confusion_matrix(y_true, y_pred)\n",
        "\n",
        "#Plota matriz de confusão\n",
        "cmd = ConfusionMatrixDisplay(cm, display_labels=['A','B', 'C', 'D', 'E', 'F', 'G', 'H', 'I', 'J', 'K', 'L', 'M', 'N', 'O', 'P', 'Q', 'R', 'S', 'T', 'U', 'V', 'W', 'X', 'Y', 'Z'])\n",
        "cmd.plot()\n",
        "cmd.ax_.set(xlabel = 'Labels Previstos', ylabel = 'Labels Verdadeiros', title = 'Matriz de Confusão')\n"
      ]
    }
  ],
  "metadata": {
    "colab": {
      "include_colab_link": true,
      "provenance": []
    },
    "kernelspec": {
      "display_name": "Python 3",
      "name": "python3"
    },
    "language_info": {
      "codemirror_mode": {
        "name": "ipython",
        "version": 3
      },
      "file_extension": ".py",
      "mimetype": "text/x-python",
      "name": "python",
      "nbconvert_exporter": "python",
      "pygments_lexer": "ipython3",
      "version": "3.10.12"
    }
  },
  "nbformat": 4,
  "nbformat_minor": 0
}
